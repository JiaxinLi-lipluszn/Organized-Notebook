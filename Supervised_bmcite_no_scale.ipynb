{
  "nbformat": 4,
  "nbformat_minor": 0,
  "metadata": {
    "accelerator": "GPU",
    "colab": {
      "name": "Supervised_bmcite_no_scale.ipynb",
      "provenance": [],
      "collapsed_sections": [
        "Zya--diQchH9"
      ],
      "machine_shape": "hm",
      "include_colab_link": true
    },
    "kernelspec": {
      "display_name": "Python 3",
      "name": "python3"
    },
    "language_info": {
      "name": "python"
    }
  },
  "cells": [
    {
      "cell_type": "markdown",
      "metadata": {
        "id": "view-in-github",
        "colab_type": "text"
      },
      "source": [
        "<a href=\"https://colab.research.google.com/github/JiaxinLi-lipluszn/Organized-Notebook/blob/main/Supervised_bmcite_no_scale.ipynb\" target=\"_parent\"><img src=\"https://colab.research.google.com/assets/colab-badge.svg\" alt=\"Open In Colab\"/></a>"
      ]
    },
    {
      "cell_type": "markdown",
      "metadata": {
        "id": "djlv3TtDR-7c"
      },
      "source": [
        "# Unzip file"
      ]
    },
    {
      "cell_type": "code",
      "metadata": {
        "colab": {
          "base_uri": "https://localhost:8080/"
        },
        "id": "5EXaQeuYlfrw",
        "outputId": "5a28ddcc-f177-4131-8af6-a75c26e8995b"
      },
      "source": [
        "from google.colab import drive\n",
        "drive.mount('/content/drive')"
      ],
      "execution_count": 1,
      "outputs": [
        {
          "output_type": "stream",
          "name": "stdout",
          "text": [
            "Mounted at /content/drive\n"
          ]
        }
      ]
    },
    {
      "cell_type": "code",
      "metadata": {
        "id": "JcuS_YCYLnrX"
      },
      "source": [
        "import os\n",
        "os.chdir(\"/content/drive/MyDrive/scRNA/Stoeckiues/\")"
      ],
      "execution_count": 2,
      "outputs": []
    },
    {
      "cell_type": "markdown",
      "metadata": {
        "id": "1j8b5ygUMpjQ"
      },
      "source": [
        "# Import"
      ]
    },
    {
      "cell_type": "code",
      "metadata": {
        "id": "lBOVdliPipAb"
      },
      "source": [
        "import sys\n",
        "import argparse\n",
        "\n",
        "import torch\n",
        "from torch import nn\n",
        "import torch.distributed as dist\n",
        "import torch.backends.cudnn as cudnn\n",
        "from torchvision import datasets\n",
        "from torchvision import transforms as pth_transforms\n",
        "from torchvision import models as torchvision_models\n",
        "import pandas as pd\n",
        "from torch.utils.data import Dataset\n",
        "from functools import partial\n",
        "import numpy as np\n",
        "from torch import optim\n",
        "from pathlib import Path\n",
        "from torch.autograd import Variable\n",
        "\n",
        "import os\n",
        "import argparse\n",
        "import os\n",
        "import sys\n",
        "import datetime\n",
        "import time\n",
        "import math\n",
        "import json\n",
        "from pathlib import Path\n",
        "\n",
        "import numpy as np\n",
        "from PIL import Image\n",
        "import torch\n",
        "import torch.nn as nn\n",
        "import torch.distributed as dist\n",
        "import torch.backends.cudnn as cudnn\n",
        "import torch.nn.functional as F\n",
        "from torch import optim\n",
        "from torchvision import datasets, transforms\n",
        "from torchvision import models as torchvision_models\n",
        "import math\n",
        "from functools import partial\n",
        "\n",
        "import torch\n",
        "import torch.nn as nn\n",
        "\n",
        "\n",
        "import torch.nn.functional as F\n",
        "from torch import optim\n",
        "from torch.autograd import Variable"
      ],
      "execution_count": 3,
      "outputs": []
    },
    {
      "cell_type": "markdown",
      "metadata": {
        "id": "lTQWvSFkkcYn"
      },
      "source": [
        "## Set seed"
      ]
    },
    {
      "cell_type": "code",
      "metadata": {
        "id": "giWf1bi3kbkJ"
      },
      "source": [
        "generator=torch.Generator().manual_seed(42)"
      ],
      "execution_count": 4,
      "outputs": []
    },
    {
      "cell_type": "code",
      "metadata": {
        "id": "-irNCuRtSEkX"
      },
      "source": [
        "import utils\n",
        "import vision_transformer_sc as vits\n",
        "from utils import trunc_normal_"
      ],
      "execution_count": 5,
      "outputs": []
    },
    {
      "cell_type": "markdown",
      "metadata": {
        "id": "NOcLZJGqYw51"
      },
      "source": [
        "# Re import files"
      ]
    },
    {
      "cell_type": "code",
      "metadata": {
        "id": "2ol_Qth2iDyD"
      },
      "source": [
        "import os\n",
        "os.chdir(\"/content/drive/MyDrive/scRNA/Stoeckiues/\")"
      ],
      "execution_count": 6,
      "outputs": []
    },
    {
      "cell_type": "code",
      "metadata": {
        "id": "VAjvfFmooqUM"
      },
      "source": [
        "from importlib import reload  \n",
        "import vision_transformer_sc as vits  \n",
        "vits = reload(vits) "
      ],
      "execution_count": 7,
      "outputs": []
    },
    {
      "cell_type": "markdown",
      "metadata": {
        "id": "SC2rsRNbic4i"
      },
      "source": [
        "# Read in Expr and meta"
      ]
    },
    {
      "cell_type": "code",
      "metadata": {
        "id": "6d_qMnTyiey7"
      },
      "source": [
        "expr = pd.read_csv(\"/content/drive/Shareddrives/Documentation/Data/bm/rna_no_scale.csv\", index_col= 0)\n"
      ],
      "execution_count": 8,
      "outputs": []
    },
    {
      "cell_type": "code",
      "metadata": {
        "id": "OVyvIBecN-ib"
      },
      "source": [
        "meta = pd.read_csv(\"/content/drive/Shareddrives/Documentation/Data/bm/meta.csv\", index_col= 0)\n"
      ],
      "execution_count": 9,
      "outputs": []
    },
    {
      "cell_type": "code",
      "metadata": {
        "id": "KwsJxdKWqPvi"
      },
      "source": [
        "# separate CD4 and CD8 in l1\n",
        "meta[\"celltype.l1.5\"] = meta[\"celltype.l1\"].values\n",
        "meta.loc[meta[\"celltype.l2\"].str.startswith(\"CD4\"), \"celltype.l1.5\"] = \"CD4 T\"\n",
        "meta.loc[meta[\"celltype.l2\"].str.startswith(\"CD8\"), \"celltype.l1.5\"] = \"CD8 T\"\n",
        "meta.loc[meta[\"celltype.l2\"]==\"Treg\", \"celltype.l1.5\"] = \"CD4 T\"\n",
        "meta.loc[meta[\"celltype.l2\"]==\"MAIT\", \"celltype.l1.5\"] = \"MAIT\"\n",
        "meta.loc[meta[\"celltype.l2\"]==\"gdT\", \"celltype.l1.5\"] = \"gdT\""
      ],
      "execution_count": 10,
      "outputs": []
    },
    {
      "cell_type": "code",
      "metadata": {
        "id": "IMr87xSQln0F"
      },
      "source": [
        "meta[\"perturb\"] = meta[meta.columns[-1]]"
      ],
      "execution_count": 11,
      "outputs": []
    },
    {
      "cell_type": "code",
      "metadata": {
        "colab": {
          "base_uri": "https://localhost:8080/",
          "height": 558
        },
        "id": "JDEjOTY1mf0x",
        "outputId": "0361496c-e019-4c91-bcc6-911b47d24bef"
      },
      "source": [
        "meta"
      ],
      "execution_count": 12,
      "outputs": [
        {
          "output_type": "execute_result",
          "data": {
            "text/html": [
              "<div>\n",
              "<style scoped>\n",
              "    .dataframe tbody tr th:only-of-type {\n",
              "        vertical-align: middle;\n",
              "    }\n",
              "\n",
              "    .dataframe tbody tr th {\n",
              "        vertical-align: top;\n",
              "    }\n",
              "\n",
              "    .dataframe thead th {\n",
              "        text-align: right;\n",
              "    }\n",
              "</style>\n",
              "<table border=\"1\" class=\"dataframe\">\n",
              "  <thead>\n",
              "    <tr style=\"text-align: right;\">\n",
              "      <th></th>\n",
              "      <th>orig.ident</th>\n",
              "      <th>nCount_RNA</th>\n",
              "      <th>nFeature_RNA</th>\n",
              "      <th>nCount_ADT</th>\n",
              "      <th>nFeature_ADT</th>\n",
              "      <th>lane</th>\n",
              "      <th>donor</th>\n",
              "      <th>celltype.l1</th>\n",
              "      <th>celltype.l2</th>\n",
              "      <th>RNA.weight</th>\n",
              "      <th>celltype.l1.5</th>\n",
              "      <th>perturb</th>\n",
              "    </tr>\n",
              "  </thead>\n",
              "  <tbody>\n",
              "    <tr>\n",
              "      <th>a_AAACCTGAGCTTATCG-1</th>\n",
              "      <td>bmcite</td>\n",
              "      <td>7546</td>\n",
              "      <td>2136</td>\n",
              "      <td>1350</td>\n",
              "      <td>25</td>\n",
              "      <td>HumanHTO4</td>\n",
              "      <td>batch1</td>\n",
              "      <td>Progenitor cells</td>\n",
              "      <td>Prog_RBC</td>\n",
              "      <td>0.482701</td>\n",
              "      <td>Progenitor cells</td>\n",
              "      <td>Progenitor cells</td>\n",
              "    </tr>\n",
              "    <tr>\n",
              "      <th>a_AAACCTGAGGTGGGTT-1</th>\n",
              "      <td>bmcite</td>\n",
              "      <td>1029</td>\n",
              "      <td>437</td>\n",
              "      <td>2970</td>\n",
              "      <td>25</td>\n",
              "      <td>HumanHTO1</td>\n",
              "      <td>batch1</td>\n",
              "      <td>T cell</td>\n",
              "      <td>gdT</td>\n",
              "      <td>0.241789</td>\n",
              "      <td>gdT</td>\n",
              "      <td>gdT</td>\n",
              "    </tr>\n",
              "    <tr>\n",
              "      <th>a_AAACCTGAGTACATGA-1</th>\n",
              "      <td>bmcite</td>\n",
              "      <td>1111</td>\n",
              "      <td>429</td>\n",
              "      <td>2474</td>\n",
              "      <td>23</td>\n",
              "      <td>HumanHTO5</td>\n",
              "      <td>batch1</td>\n",
              "      <td>T cell</td>\n",
              "      <td>CD4 Naive</td>\n",
              "      <td>0.507714</td>\n",
              "      <td>CD4 T</td>\n",
              "      <td>CD4 T</td>\n",
              "    </tr>\n",
              "    <tr>\n",
              "      <th>a_AAACCTGCAAACCTAC-1</th>\n",
              "      <td>bmcite</td>\n",
              "      <td>2741</td>\n",
              "      <td>851</td>\n",
              "      <td>4799</td>\n",
              "      <td>25</td>\n",
              "      <td>HumanHTO3</td>\n",
              "      <td>batch1</td>\n",
              "      <td>T cell</td>\n",
              "      <td>CD4 Memory</td>\n",
              "      <td>0.431308</td>\n",
              "      <td>CD4 T</td>\n",
              "      <td>CD4 T</td>\n",
              "    </tr>\n",
              "    <tr>\n",
              "      <th>a_AAACCTGCAAGGTGTG-1</th>\n",
              "      <td>bmcite</td>\n",
              "      <td>2099</td>\n",
              "      <td>843</td>\n",
              "      <td>5434</td>\n",
              "      <td>25</td>\n",
              "      <td>HumanHTO2</td>\n",
              "      <td>batch1</td>\n",
              "      <td>Mono/DC</td>\n",
              "      <td>CD14 Mono</td>\n",
              "      <td>0.568508</td>\n",
              "      <td>Mono/DC</td>\n",
              "      <td>Mono/DC</td>\n",
              "    </tr>\n",
              "    <tr>\n",
              "      <th>...</th>\n",
              "      <td>...</td>\n",
              "      <td>...</td>\n",
              "      <td>...</td>\n",
              "      <td>...</td>\n",
              "      <td>...</td>\n",
              "      <td>...</td>\n",
              "      <td>...</td>\n",
              "      <td>...</td>\n",
              "      <td>...</td>\n",
              "      <td>...</td>\n",
              "      <td>...</td>\n",
              "      <td>...</td>\n",
              "    </tr>\n",
              "    <tr>\n",
              "      <th>b_TTTGTCATCCGAGCCA-1</th>\n",
              "      <td>bmcite</td>\n",
              "      <td>3000</td>\n",
              "      <td>895</td>\n",
              "      <td>5403</td>\n",
              "      <td>25</td>\n",
              "      <td>HumanHTO8</td>\n",
              "      <td>batch2</td>\n",
              "      <td>T cell</td>\n",
              "      <td>CD4 Memory</td>\n",
              "      <td>0.296002</td>\n",
              "      <td>CD4 T</td>\n",
              "      <td>CD4 T</td>\n",
              "    </tr>\n",
              "    <tr>\n",
              "      <th>b_TTTGTCATCCGTAGGC-1</th>\n",
              "      <td>bmcite</td>\n",
              "      <td>2230</td>\n",
              "      <td>649</td>\n",
              "      <td>4744</td>\n",
              "      <td>25</td>\n",
              "      <td>HumanHTO9</td>\n",
              "      <td>batch2</td>\n",
              "      <td>T cell</td>\n",
              "      <td>CD4 Naive</td>\n",
              "      <td>0.429053</td>\n",
              "      <td>CD4 T</td>\n",
              "      <td>CD4 T</td>\n",
              "    </tr>\n",
              "    <tr>\n",
              "      <th>b_TTTGTCATCCTCGCAT-1</th>\n",
              "      <td>bmcite</td>\n",
              "      <td>4259</td>\n",
              "      <td>1457</td>\n",
              "      <td>6600</td>\n",
              "      <td>25</td>\n",
              "      <td>HumanHTO6</td>\n",
              "      <td>batch2</td>\n",
              "      <td>Mono/DC</td>\n",
              "      <td>CD16 Mono</td>\n",
              "      <td>0.506296</td>\n",
              "      <td>Mono/DC</td>\n",
              "      <td>Mono/DC</td>\n",
              "    </tr>\n",
              "    <tr>\n",
              "      <th>b_TTTGTCATCGCCGTGA-1</th>\n",
              "      <td>bmcite</td>\n",
              "      <td>2648</td>\n",
              "      <td>733</td>\n",
              "      <td>4939</td>\n",
              "      <td>25</td>\n",
              "      <td>HumanHTO3</td>\n",
              "      <td>batch2</td>\n",
              "      <td>T cell</td>\n",
              "      <td>CD4 Naive</td>\n",
              "      <td>0.234427</td>\n",
              "      <td>CD4 T</td>\n",
              "      <td>CD4 T</td>\n",
              "    </tr>\n",
              "    <tr>\n",
              "      <th>b_TTTGTCATCGTTTGCC-1</th>\n",
              "      <td>bmcite</td>\n",
              "      <td>3405</td>\n",
              "      <td>886</td>\n",
              "      <td>3287</td>\n",
              "      <td>24</td>\n",
              "      <td>HumanHTO8</td>\n",
              "      <td>batch2</td>\n",
              "      <td>T cell</td>\n",
              "      <td>CD8 Naive</td>\n",
              "      <td>0.274667</td>\n",
              "      <td>CD8 T</td>\n",
              "      <td>CD8 T</td>\n",
              "    </tr>\n",
              "  </tbody>\n",
              "</table>\n",
              "<p>30672 rows × 12 columns</p>\n",
              "</div>"
            ],
            "text/plain": [
              "                     orig.ident  nCount_RNA  ...     celltype.l1.5           perturb\n",
              "a_AAACCTGAGCTTATCG-1     bmcite        7546  ...  Progenitor cells  Progenitor cells\n",
              "a_AAACCTGAGGTGGGTT-1     bmcite        1029  ...               gdT               gdT\n",
              "a_AAACCTGAGTACATGA-1     bmcite        1111  ...             CD4 T             CD4 T\n",
              "a_AAACCTGCAAACCTAC-1     bmcite        2741  ...             CD4 T             CD4 T\n",
              "a_AAACCTGCAAGGTGTG-1     bmcite        2099  ...           Mono/DC           Mono/DC\n",
              "...                         ...         ...  ...               ...               ...\n",
              "b_TTTGTCATCCGAGCCA-1     bmcite        3000  ...             CD4 T             CD4 T\n",
              "b_TTTGTCATCCGTAGGC-1     bmcite        2230  ...             CD4 T             CD4 T\n",
              "b_TTTGTCATCCTCGCAT-1     bmcite        4259  ...           Mono/DC           Mono/DC\n",
              "b_TTTGTCATCGCCGTGA-1     bmcite        2648  ...             CD4 T             CD4 T\n",
              "b_TTTGTCATCGTTTGCC-1     bmcite        3405  ...             CD8 T             CD8 T\n",
              "\n",
              "[30672 rows x 12 columns]"
            ]
          },
          "metadata": {},
          "execution_count": 12
        }
      ]
    },
    {
      "cell_type": "markdown",
      "metadata": {
        "id": "7f067NMtlECf"
      },
      "source": [
        "# Dataset Class"
      ]
    },
    {
      "cell_type": "code",
      "metadata": {
        "id": "3-28it3RR8OV"
      },
      "source": [
        "class scRNACSV(Dataset):\n",
        "  def __init__(self, expr, meta, transform = None, target_transform=None):\n",
        "    self.expr = expr\n",
        "    self.meta = meta\n",
        "    self.cells = list(expr.columns)\n",
        "    self.labels = list(meta[\"perturb\"])\n",
        "    self.samples = [(self.cells,self.labels[i]) for i in range(len(self.labels))]\n",
        "    self.label_keys = list(set(self.labels))\n",
        "    self.label_keys.sort()\n",
        "    self.label_dic = {}\n",
        "    for label, i in zip(self.label_keys, range(len(self.label_keys))):\n",
        "      self.label_dic[label] = i\n",
        "    print(f\"This is the label dictionary of this dataset {self.label_dic}\")\n",
        "    self.transform = transform\n",
        "    self.target_transform = target_transform\n",
        "  def __len__(self):\n",
        "    return self.expr.shape[1]\n",
        "\n",
        "  def __getitem__(self,idx):\n",
        "    one_cell = torch.from_numpy(np.array(self.expr.iloc[:,idx]))\n",
        "    if self.transform:\n",
        "      ret = self.transform(one_cell)\n",
        "    else:\n",
        "      ret = one_cell\n",
        "    lab = self.label_dic[self.labels[idx]]\n",
        "    \n",
        "    return ret, self.label_dic[self.labels[idx]]"
      ],
      "execution_count": 13,
      "outputs": []
    },
    {
      "cell_type": "code",
      "metadata": {
        "id": "EZWFQWj4TzMY"
      },
      "source": [
        " class DINO_Crop(object):\n",
        "  def __init__(self, global_crops_scale, local_crops_scale, local_crops_number):\n",
        "    self.global_crops_scale = global_crops_scale\n",
        "    self.local_crops_scale = local_crops_scale\n",
        "    self.local_crops_number = local_crops_number\n",
        "    \n",
        "  def __call__(self, x):\n",
        "    inputs = []\n",
        "    data = x  \n",
        "    length = x.shape[0]\n",
        "    #print(\"This is the length\")\n",
        "    #print(length)\n",
        "    global_size = int(length * self.global_crops_scale)\n",
        "    global_index_1 = np.random.choice(length, size = global_size, replace = False)\n",
        "    \n",
        "    global_corr_1 = torch.from_numpy(global_index_1)\n",
        "    \n",
        "    global_data_1 = data[global_index_1,]\n",
        "    global_input_1 = torch.cat([global_data_1, global_corr_1]).float()\n",
        "    return global_input_1"
      ],
      "execution_count": 14,
      "outputs": []
    },
    {
      "cell_type": "markdown",
      "metadata": {
        "id": "kjncFOMzlgA3"
      },
      "source": [
        "## Initiate Crop"
      ]
    },
    {
      "cell_type": "code",
      "metadata": {
        "id": "Ijmy5OYelh4h"
      },
      "source": [
        "crop = DINO_Crop(0.5,0.25,8)"
      ],
      "execution_count": 15,
      "outputs": []
    },
    {
      "cell_type": "code",
      "metadata": {
        "colab": {
          "base_uri": "https://localhost:8080/"
        },
        "id": "3-S2LcW1k8ze",
        "outputId": "08b8801d-9494-4113-886e-cc77988a731b"
      },
      "source": [
        "dataset = scRNACSV(expr, meta, transform = crop)"
      ],
      "execution_count": 16,
      "outputs": [
        {
          "output_type": "stream",
          "name": "stdout",
          "text": [
            "This is the label dictionary of this dataset {'B cell': 0, 'CD4 T': 1, 'CD8 T': 2, 'MAIT': 3, 'Mono/DC': 4, 'NK': 5, 'Progenitor cells': 6, 'gdT': 7}\n"
          ]
        }
      ]
    },
    {
      "cell_type": "markdown",
      "metadata": {
        "id": "Ixzi3xe5i_3Z"
      },
      "source": [
        "## Split dataset"
      ]
    },
    {
      "cell_type": "code",
      "metadata": {
        "id": "d3IHnx3ri5Yf"
      },
      "source": [
        "train_length = int(len(dataset) * 0.8)\n",
        "test_length = len(dataset) - train_length\n",
        "train_dataset, test_dataset = torch.utils.data.random_split(dataset=dataset, lengths = [train_length, test_length], generator=torch.Generator().manual_seed(42))"
      ],
      "execution_count": 17,
      "outputs": []
    },
    {
      "cell_type": "markdown",
      "metadata": {
        "id": "g1bJ9cVInh_x"
      },
      "source": [
        "## Dataloader"
      ]
    },
    {
      "cell_type": "code",
      "metadata": {
        "id": "_mJtnigynj8n"
      },
      "source": [
        "train_loader = torch.utils.data.DataLoader(train_dataset, batch_size=16, shuffle = True)\n",
        "test_loader = torch.utils.data.DataLoader(test_dataset, batch_size=16, shuffle = True)"
      ],
      "execution_count": 18,
      "outputs": []
    },
    {
      "cell_type": "markdown",
      "metadata": {
        "id": "L1WgF9zmmt2K"
      },
      "source": [
        "# Supervised Train"
      ]
    },
    {
      "cell_type": "code",
      "metadata": {
        "id": "oR9A_0yVmtQk"
      },
      "source": [
        "def train_one_epoch(trainloader, simple_model, epoch, optimizer):\n",
        "  running_loss = 0.0\n",
        "  simple_model.train()\n",
        "  lossF = nn.CrossEntropyLoss()\n",
        "  sum_loss = 0\n",
        "  num = 0\n",
        "  for batch_idx, (data, label) in enumerate(trainloader):\n",
        "    data, label = Variable(data).cuda(), Variable(label).cuda()\n",
        "    #data, label = Variable(data), Variable(label)\n",
        "    optimizer.zero_grad()\n",
        "    output = simple_model(data)\n",
        "    loss = lossF(output, label)\n",
        "    sum_loss += loss\n",
        "    num += 1\n",
        "    loss.backward()\n",
        "    optimizer.step()\n",
        "    #plot_grad_flow(simple_model.named_parameters())\n",
        "    if batch_idx % 100 == 0:\n",
        "      print(\"Train Epoch: {} [{}/{} ({:.0f}%)]\\tLoss {:.6f}\".format(\n",
        "                epoch, batch_idx*len(data), len(trainloader.dataset),\n",
        "                100.*batch_idx/len(trainloader), loss.item()))\n",
        "  loss_stat = (sum_loss/num).detach().cpu().numpy().item()\n",
        "  log_stats = {**{f'Average Loss': loss_stat}, 'epoch': epoch + 1}\n",
        "  with (Path(output_dir) / \"loss.txt\").open(\"a\") as f: f.write(json.dumps(log_stats) + \"\\n\")"
      ],
      "execution_count": 19,
      "outputs": []
    },
    {
      "cell_type": "code",
      "metadata": {
        "id": "Z1jYSUjXmzh_"
      },
      "source": [
        "os.chdir(\"/content/drive/Shareddrives/Documentation/Jiaxin_Li/Supervised_perturb/\")"
      ],
      "execution_count": 20,
      "outputs": []
    },
    {
      "cell_type": "markdown",
      "metadata": {
        "id": "0rrFgPYUm4Q3"
      },
      "source": [
        "## Train loop"
      ]
    },
    {
      "cell_type": "code",
      "metadata": {
        "id": "p0tTLVlAq2os"
      },
      "source": [
        "os.chdir(\"/content/drive/Shareddrives/Documentation/Jiaxin_Li/Supervised_perturb/\")\n",
        "!rm -r ./128+128_bmcite_no_scale_Aug30"
      ],
      "execution_count": 21,
      "outputs": []
    },
    {
      "cell_type": "code",
      "metadata": {
        "colab": {
          "base_uri": "https://localhost:8080/"
        },
        "id": "WkqnsAYDRVkQ",
        "outputId": "70032378-469f-459d-89a4-e3d2df3ff6da"
      },
      "source": [
        "os.chdir(\"/content/drive/Shareddrives/Documentation/Jiaxin_Li/Supervised_perturb/\")\n",
        "output_dir = './128+128_bmcite_no_scale_Aug30' ### customized your own output_dir\n",
        "model = vits.vit_tiny()\n",
        "optimizer = optim.Adam(model.parameters(), lr = 1e-2)\n",
        "model.cuda()\n",
        "Path(output_dir).mkdir(parents=True, exist_ok=True)\n",
        "saveckp_freq = 1\n",
        "to_restore = {\"epoch\": 0}\n",
        "utils.restart_from_checkpoint(\n",
        "    os.path.join(output_dir, \"checkpoint.pth\"),\n",
        "    run_variables=to_restore,\n",
        "    model=model,\n",
        "    optimizer=optimizer,\n",
        ")\n",
        "start_epoch = to_restore[\"epoch\"]\n",
        "for epoch in range(start_epoch, 1000):\n",
        "    model.train()\n",
        "    train_one_epoch(train_loader, model, epoch, optimizer)\n",
        "    # ============ writing logs ... ============\n",
        "    save_dict = {\n",
        "        'model': model.state_dict(),\n",
        "        'optimizer': optimizer.state_dict(),\n",
        "        'epoch': epoch + 1,\n",
        "    }\n",
        "    # Train loop\n",
        "    if epoch % 3 == 0:\n",
        "      correct, total = 0, 0\n",
        "    \n",
        "      with torch.no_grad():\n",
        "        # Iterate over the test data and generate predictions\n",
        "          for i, data in enumerate(train_loader, 0):\n",
        "          # Get inputs\n",
        "            inputs, targets = data\n",
        "            inputs = inputs.cuda()\n",
        "            targets = targets.cuda()\n",
        "          # Generate outputs\n",
        "            model.eval()\n",
        "            outputs = model(inputs)\n",
        "          # Set total and correct\n",
        "            _, predicted = torch.max(outputs.data, 1)\n",
        "            #print(predicted)\n",
        "            #print(outputs)\n",
        "            total += targets.size(0)\n",
        "            correct += (predicted == targets).sum().item()\n",
        "            # Print accuracy\n",
        "          train_acc = \"%f %%\" %(100 * correct / total)\n",
        "          print(train_acc)\n",
        "    # Testing loop\n",
        "      correct, total = 0, 0\n",
        "      with torch.no_grad():\n",
        "        # Iterate over the test data and generate predictions\n",
        "          for i, data in enumerate(test_loader, 0):\n",
        "          # Get inputs\n",
        "            inputs, targets = data\n",
        "            inputs = inputs.cuda()\n",
        "            #print(inputs.shape)\n",
        "            #print(inputs)\n",
        "            targets = targets.cuda()\n",
        "          # Generate outputs\n",
        "            model.eval()\n",
        "            outputs = model(inputs)\n",
        "          # Set total and correct\n",
        "            _, predicted = torch.max(outputs.data, 1)\n",
        "            #print(inputs[:,0:20])\n",
        "            print(predicted)\n",
        "            #print(outputs[:,0:10])\n",
        "            total += targets.size(0)\n",
        "            correct += (predicted == targets).sum().item()\n",
        "        # Print accuracy\n",
        "          test_acc =  \"%f %%\" %(100 * correct / total)\n",
        "          print(test_acc)\n",
        "      acc_stats = {\"Training Accuracy\": train_acc, \"Testing Accuracy\":  test_acc, \"epoch\": epoch+1}\n",
        "      with (Path(output_dir) / \"acc.txt\").open(\"a\") as f: f.write(json.dumps(acc_stats) + \"\\n\")\n",
        "    utils.save_on_master(save_dict, os.path.join(output_dir, 'checkpoint.pth'))\n",
        "    if saveckp_freq and epoch % saveckp_freq == 0:\n",
        "        utils.save_on_master(save_dict, os.path.join(output_dir, f'checkpoint{epoch:04}.pth'))"
      ],
      "execution_count": null,
      "outputs": [
        {
          "output_type": "stream",
          "name": "stdout",
          "text": [
            "Train Epoch: 0 [0/24537 (0%)]\tLoss 2.072412\n",
            "Train Epoch: 0 [1600/24537 (7%)]\tLoss 2.035679\n",
            "Train Epoch: 0 [3200/24537 (13%)]\tLoss 1.907763\n",
            "Train Epoch: 0 [4800/24537 (20%)]\tLoss 1.912887\n",
            "Train Epoch: 0 [6400/24537 (26%)]\tLoss 1.715126\n"
          ]
        }
      ]
    }
  ]
}